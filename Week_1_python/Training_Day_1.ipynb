{
  "cells": [
    {
      "cell_type": "markdown",
      "metadata": {
        "id": "HGYKBPAXUvgt"
      },
      "source": [
        "Hello World \n",
        "\n",
        "---\n",
        "\n"
      ]
    },
    {
      "cell_type": "code",
      "execution_count": null,
      "metadata": {
        "colab": {
          "base_uri": "https://localhost:8080/"
        },
        "id": "29-Jt1xbJ1Ci",
        "outputId": "fb91f904-dfde-4c66-ed3e-5522f4a93ff8"
      },
      "outputs": [
        {
          "name": "stdout",
          "output_type": "stream",
          "text": [
            "hello\n"
          ]
        }
      ],
      "source": [
        "print (\"hello\")"
      ]
    },
    {
      "cell_type": "code",
      "execution_count": null,
      "metadata": {
        "id": "SVgV-FmCHK7N"
      },
      "outputs": [],
      "source": []
    },
    {
      "cell_type": "markdown",
      "metadata": {
        "id": "KS1l9OegVpPM"
      },
      "source": [
        "The Help Statement In Python \n",
        "\n",
        "---\n",
        "\n"
      ]
    },
    {
      "cell_type": "code",
      "execution_count": null,
      "metadata": {
        "colab": {
          "base_uri": "https://localhost:8080/"
        },
        "id": "QTGhYgMGSI3q",
        "outputId": "0fc31069-a053-4f19-86d1-f7259fc95318"
      },
      "outputs": [
        {
          "ename": "",
          "evalue": "",
          "output_type": "error",
          "traceback": [
            "\u001b[1;31mUnable to start Kernel 'Python 3.10.1 64-bit' due to connection timeout. \n",
            "View Jupyter <a href='command:jupyter.viewOutput'>log</a> for further details."
          ]
        }
      ],
      "source": [
        "help(print)"
      ]
    },
    {
      "cell_type": "markdown",
      "metadata": {
        "id": "X9x54Mgx00iN"
      },
      "source": [
        "Statements and Comments\n",
        "\n",
        "\n",
        "---\n",
        "\n"
      ]
    },
    {
      "cell_type": "code",
      "execution_count": null,
      "metadata": {
        "colab": {
          "base_uri": "https://localhost:8080/",
          "height": 134
        },
        "id": "lnsKrrIG1Xdt",
        "outputId": "6d0f217f-d5ee-4e23-d91f-b36e981c9f3f"
      },
      "outputs": [
        {
          "ename": "SyntaxError",
          "evalue": "ignored",
          "output_type": "error",
          "traceback": [
            "\u001b[0;36m  File \u001b[0;32m\"<ipython-input-1-d531760f99b5>\"\u001b[0;36m, line \u001b[0;32m1\u001b[0m\n\u001b[0;31m    z = 1 + 2 + 3 +\u001b[0m\n\u001b[0m                   ^\u001b[0m\n\u001b[0;31mSyntaxError\u001b[0m\u001b[0;31m:\u001b[0m invalid syntax\n"
          ]
        }
      ],
      "source": [
        "# z = 1 + 2 + 3 +\n",
        "#     4 + 5 + 6 +\n",
        "#     7 + 8 + 9\n",
        "# print(z)"
      ]
    },
    {
      "cell_type": "code",
      "execution_count": null,
      "metadata": {
        "colab": {
          "base_uri": "https://localhost:8080/"
        },
        "id": "KFtrbNdj0kBc",
        "outputId": "62a6a1ef-10a2-4537-f3e1-ee3893bf6a27"
      },
      "outputs": [
        {
          "name": "stdout",
          "output_type": "stream",
          "text": [
            "45\n"
          ]
        }
      ],
      "source": [
        "# Declared using Continuation Character (\\):\n",
        "a = 1 + 2 + 3 + \\\n",
        "    4 + 5 + 6 + \\\n",
        "    7 + 8 + 9\n",
        "print(a)"
      ]
    },
    {
      "cell_type": "code",
      "execution_count": null,
      "metadata": {
        "colab": {
          "base_uri": "https://localhost:8080/"
        },
        "id": "Tlbx45dH0j2t",
        "outputId": "06e8c4f3-7674-4cb5-bb9d-ef9776da4af5"
      },
      "outputs": [
        {
          "name": "stdout",
          "output_type": "stream",
          "text": [
            "45\n"
          ]
        }
      ],
      "source": [
        "# Declared using parentheses () :\n",
        "b = (1 + 2 + 3 +\n",
        "    4 + 5 + 6 +\n",
        "    7 + 8 + 9)\n",
        "# [] and {} also same\n",
        "# Declared using square brackets []\n",
        "# Declared using braces {} \n",
        "print(b)"
      ]
    },
    {
      "cell_type": "code",
      "execution_count": null,
      "metadata": {
        "colab": {
          "base_uri": "https://localhost:8080/"
        },
        "id": "Gg4nPo_a3qOu",
        "outputId": "4f7678fd-6ce6-4215-df85-d148da542bc7"
      },
      "outputs": [
        {
          "name": "stdout",
          "output_type": "stream",
          "text": [
            "1\n",
            "2\n",
            "3\n"
          ]
        }
      ],
      "source": [
        "# Declared using semicolons(;) :\n",
        "a = 1; b = 2; c = 3\n",
        "print(a)\n",
        "print(b)\n",
        "print(c)"
      ]
    },
    {
      "cell_type": "markdown",
      "metadata": {
        "id": "RdtQLJNW5jKj"
      },
      "source": [
        "Comments\n"
      ]
    },
    {
      "cell_type": "code",
      "execution_count": null,
      "metadata": {
        "colab": {
          "base_uri": "https://localhost:8080/"
        },
        "id": "rq3ckbXy5qIa",
        "outputId": "bddef520-b5bb-420b-99f4-c398327e818b"
      },
      "outputs": [
        {
          "name": "stdout",
          "output_type": "stream",
          "text": [
            "Hello\n"
          ]
        }
      ],
      "source": [
        "#This is a comment\n",
        "#print out Hello\n",
        "print('Hello') #Explain the code "
      ]
    },
    {
      "cell_type": "code",
      "execution_count": null,
      "metadata": {
        "colab": {
          "base_uri": "https://localhost:8080/"
        },
        "id": "urMVlKIG5p6y",
        "outputId": "0534439f-22c9-48b6-f91f-cce4e4867615"
      },
      "outputs": [
        {
          "name": "stdout",
          "output_type": "stream",
          "text": [
            "Hello\n"
          ]
        }
      ],
      "source": [
        "\"\"\"This is also a\n",
        "perfect example of\n",
        "multi-line comments\"\"\"\n",
        "print('Hello')\n",
        "# ''' ---- ''' is also same "
      ]
    },
    {
      "cell_type": "markdown",
      "metadata": {
        "id": "LcslTaM266nX"
      },
      "source": [
        "Docstrings in Python"
      ]
    },
    {
      "cell_type": "code",
      "execution_count": null,
      "metadata": {
        "colab": {
          "base_uri": "https://localhost:8080/"
        },
        "id": "DSNBj29f5pqM",
        "outputId": "2a231d5b-fa45-4d3c-f1c6-b250b326b154"
      },
      "outputs": [
        {
          "name": "stdout",
          "output_type": "stream",
          "text": [
            "8\n"
          ]
        }
      ],
      "source": [
        "def double(num):\n",
        "    \"\"\"Function to double the value\"\"\"\n",
        "    return 2*num\n",
        "# print(double.__doc__)\n",
        "print(double(4))"
      ]
    },
    {
      "cell_type": "markdown",
      "metadata": {
        "id": "pZ434aFE8pGX"
      },
      "source": [
        "Indentation\n"
      ]
    },
    {
      "cell_type": "code",
      "execution_count": null,
      "metadata": {
        "colab": {
          "base_uri": "https://localhost:8080/"
        },
        "id": "F5PgPkYJ8ooN",
        "outputId": "2006fb97-760c-4d57-eb76-274556bad719"
      },
      "outputs": [
        {
          "name": "stdout",
          "output_type": "stream",
          "text": [
            "1\n",
            "6\n",
            "2\n",
            "7\n",
            "3\n",
            "8\n",
            "4\n",
            "9\n",
            "5\n",
            "10\n"
          ]
        }
      ],
      "source": [
        "j = 1\n",
        "while(j <= 5):\n",
        "  print(j)\n",
        "  j = j + 1\n",
        "x = j+4\n",
        "# print(\"----\")\n",
        "print(x)"
      ]
    },
    {
      "cell_type": "markdown",
      "metadata": {
        "id": "uivWIQX6U8wb"
      },
      "source": [
        "Variables In Python"
      ]
    },
    {
      "cell_type": "markdown",
      "metadata": {
        "id": "hIXzCYuWeJQk"
      },
      "source": [
        "Snake_case\n",
        "\n",
        "\n",
        "---\n",
        "\n",
        "\n",
        "MACRO_CASE\n",
        "\n",
        "---\n",
        "\n",
        "\n",
        "camelCase\n",
        "\n",
        "---\n",
        "\n",
        "\n",
        "CapWords (i.e. Pascal Case)"
      ]
    },
    {
      "cell_type": "code",
      "execution_count": null,
      "metadata": {
        "colab": {
          "base_uri": "https://localhost:8080/"
        },
        "id": "MxsxzYbDA4Rm",
        "outputId": "40eb8846-4b71-4c80-9551-cff4d5d3ad0b"
      },
      "outputs": [
        {
          "name": "stdout",
          "output_type": "stream",
          "text": [
            "abc\n"
          ]
        },
        {
          "data": {
            "text/plain": [
              "str"
            ]
          },
          "execution_count": 11,
          "metadata": {},
          "output_type": "execute_result"
        }
      ],
      "source": [
        "number = \"abc\" #\"abc\",10.7,\n",
        "print(number)\n",
        "type(number)"
      ]
    },
    {
      "cell_type": "markdown",
      "metadata": {
        "id": "kdFrsZgMVHTM"
      },
      "source": [
        "One Value To Multiple Variable\n",
        "\n",
        "\n",
        "---\n",
        "\n"
      ]
    },
    {
      "cell_type": "code",
      "execution_count": null,
      "metadata": {
        "colab": {
          "base_uri": "https://localhost:8080/"
        },
        "id": "pxpURcgrJ42D",
        "outputId": "70341300-11cf-4d9c-f4d6-af6b51b13481"
      },
      "outputs": [
        {
          "name": "stdout",
          "output_type": "stream",
          "text": [
            "Orange\n",
            "Orange\n",
            "Orange\n"
          ]
        }
      ],
      "source": [
        "x = y = z = \"Orange\"\n",
        "print(x)\n",
        "print(y)\n",
        "print(z)"
      ]
    },
    {
      "cell_type": "markdown",
      "metadata": {
        "id": "l_nh-CmIVQGc"
      },
      "source": [
        "Unpack A Collection \n",
        "\n",
        "---"
      ]
    },
    {
      "cell_type": "code",
      "execution_count": null,
      "metadata": {
        "colab": {
          "base_uri": "https://localhost:8080/"
        },
        "id": "q1UIK0sRRtN0",
        "outputId": "686157ef-f530-4e45-fcfd-ed395188e9dd"
      },
      "outputs": [
        {
          "name": "stdout",
          "output_type": "stream",
          "text": [
            "apple\n",
            "banana\n",
            "cherry\n"
          ]
        }
      ],
      "source": [
        "fruits = [\"apple\", \"banana\", \"cherry\"]\n",
        "x, y, z = fruits\n",
        "print(x)\n",
        "print(y)\n",
        "print(z)"
      ]
    },
    {
      "cell_type": "code",
      "execution_count": null,
      "metadata": {
        "colab": {
          "base_uri": "https://localhost:8080/"
        },
        "id": "djsOhIuJR00u",
        "outputId": "3e6fc4e9-b79d-4bec-e53d-f6bfb57ead6f"
      },
      "outputs": [
        {
          "name": "stdout",
          "output_type": "stream",
          "text": [
            "Python is awesome\n"
          ]
        }
      ],
      "source": [
        "x = \"awesome\"\n",
        "# x = \"amazing\" # assigning a new value to x\n",
        "print(\"Python is \" + x)"
      ]
    },
    {
      "cell_type": "markdown",
      "metadata": {
        "id": "7flD1h5yK-lb"
      },
      "source": [
        "Global variable"
      ]
    },
    {
      "cell_type": "code",
      "execution_count": null,
      "metadata": {
        "colab": {
          "base_uri": "https://localhost:8080/"
        },
        "id": "YKeIgjapMCOU",
        "outputId": "68b207e8-df44-4796-f0cc-e08b238a397f"
      },
      "outputs": [
        {
          "name": "stdout",
          "output_type": "stream",
          "text": [
            "Python is fantastic\n"
          ]
        }
      ],
      "source": [
        "x = \"amazing\"\n",
        "\n",
        "def myfunc():\n",
        "  global x\n",
        "  x = \"fantastic\"\n",
        "x = \"awesome\"\n",
        "myfunc()\n",
        "print(\"Python is \" + x) "
      ]
    },
    {
      "cell_type": "markdown",
      "metadata": {
        "id": "Ova5aLfmH7kT"
      },
      "source": [
        "DataTypes"
      ]
    },
    {
      "cell_type": "code",
      "execution_count": null,
      "metadata": {
        "colab": {
          "base_uri": "https://localhost:8080/"
        },
        "id": "CTKyfG44CIhD",
        "outputId": "596c87ce-b6cb-4668-e92e-69ebfbb188de"
      },
      "outputs": [
        {
          "name": "stdout",
          "output_type": "stream",
          "text": [
            "5\n",
            "3.2\n",
            "Hello\n",
            "[2, 2, 4.5, 'Hey']\n"
          ]
        },
        {
          "data": {
            "text/plain": [
              "list"
            ]
          },
          "execution_count": 20,
          "metadata": {},
          "output_type": "execute_result"
        }
      ],
      "source": [
        "a, b,c = 5, 3.2, \"Hello\"\n",
        "t = [2,2,4.5,\"Hey\"] # {},[],()\n",
        "print (a)\n",
        "print (b)\n",
        "print (c)\n",
        "print (t)\n",
        "type(t)"
      ]
    },
    {
      "cell_type": "code",
      "execution_count": null,
      "metadata": {
        "colab": {
          "base_uri": "https://localhost:8080/"
        },
        "id": "MblLGHZkQjpF",
        "outputId": "c985351a-2d5c-44aa-9721-d73ec27f6071"
      },
      "outputs": [
        {
          "name": "stdout",
          "output_type": "stream",
          "text": [
            "<memory at 0x7f52bb1e41f0>\n"
          ]
        },
        {
          "data": {
            "text/plain": [
              "memoryview"
            ]
          },
          "execution_count": 33,
          "metadata": {},
          "output_type": "execute_result"
        }
      ],
      "source": [
        "x = \"Hello World\" \t#str \t\n",
        "# x = 20 #\tint \t\n",
        "# x = 20.5 #\tfloat \t\n",
        "# x = 1j \t#complex \t\n",
        "# x = [\"apple\", \"banana\", \"cherry\"] \t#list \t\n",
        "# x = (\"apple\", \"banana\", \"cherry\") \t#tuple \t\n",
        "# x = range(6) \t#range \t\n",
        "# x = {\"name\" : \"John\", \"age\" : 36} \t#dict \t\n",
        "# x = {\"apple\", \"banana\", \"cherry\"} \t#set \t\n",
        "\n",
        "\n",
        "# x = frozenset({\"apple\", \"banana\", \"cherry\"}) \t#frozenset \t\n",
        "# x = True \t#bool \t\n",
        "# x = b\"Hello\" \t#bytes \t\n",
        "# x = bytearray(5) \t#bytearray \t\n",
        "# x = memoryview(bytes(5)) \t#memoryview\n",
        "print (x)\n",
        "type(x)"
      ]
    },
    {
      "cell_type": "markdown",
      "metadata": {
        "id": "PNg7gmRvUYar"
      },
      "source": [
        "Type Conversions In Python\n",
        "\n",
        "---\n",
        "\n"
      ]
    },
    {
      "cell_type": "code",
      "execution_count": null,
      "metadata": {
        "colab": {
          "base_uri": "https://localhost:8080/"
        },
        "id": "BdO3Kfb3Sg7G",
        "outputId": "2c03820d-fb05-4688-f3af-9e39a05ae297"
      },
      "outputs": [
        {
          "name": "stdout",
          "output_type": "stream",
          "text": [
            "<class 'str'>\n",
            "After converting to integer base 2 : 10010\n",
            "<class 'int'>\n",
            "After converting to float : 10010.0\n",
            "<class 'float'>\n"
          ]
        }
      ],
      "source": [
        "# Python code to demonstrate Type conversion\n",
        "# using int(), float()\n",
        "\n",
        "# initializing string\n",
        "s = \"10010\"\n",
        "print(type(s))\n",
        "\n",
        "\n",
        "# printing string converting to int base 2\n",
        "c = int(s)\n",
        "# c = int(s,2)\n",
        "print (\"After converting to integer base 2 : \", end=\"\")\n",
        "print (c)\n",
        "print(type(c))\n",
        "\n",
        "\n",
        "# printing string converting to float\n",
        "e = float(s)\n",
        "print (\"After converting to float : \", end=\"\")\n",
        "print (e)\n",
        "print(type(e))"
      ]
    },
    {
      "cell_type": "code",
      "execution_count": null,
      "metadata": {
        "colab": {
          "base_uri": "https://localhost:8080/"
        },
        "id": "j9aFURqXT8Xj",
        "outputId": "04110c05-1219-46fb-f7e1-09fbf49c1900"
      },
      "outputs": [
        {
          "name": "stdout",
          "output_type": "stream",
          "text": [
            "<class 'str'>\n",
            "After converting character to integer : 52\n",
            "<class 'int'>\n",
            "After converting 56 to *hexadecimal* string : 0x38\n",
            "<class 'str'>\n",
            "After converting 56 to *octal* string : 0o70\n",
            "<class 'str'>\n",
            "After converting 56 to *ASCII* value : 4\n",
            "<class 'str'>\n"
          ]
        }
      ],
      "source": [
        "# Python code to demonstrate Type conversion\n",
        "# using ord(), hex(), oct()\n",
        "# initializing \n",
        "s = '4'\n",
        "print(type(s))\n",
        "# printing character converting to integer\n",
        "c = ord(s)\n",
        "print (\"After converting character to integer : \",end=\"\")\n",
        "print (c)\n",
        "print(type(c))\n",
        "\n",
        "# printing integer converting to hexadecimal string\n",
        "c = hex(56)\n",
        "print (\"After converting 56 to *hexadecimal* string : \",end=\"\")\n",
        "print (c)\n",
        "print(type(c))\n",
        "\n",
        "# printing integer converting to octal string\n",
        "c = oct(56)\n",
        "print (\"After converting 56 to *octal* string : \",end=\"\")\n",
        "print (c)\n",
        "print(type(c))\n",
        "\n",
        "# printing integer converting to char string\n",
        "c = chr(52)\n",
        "print (\"After converting 56 to *ASCII* value : \",end=\"\")\n",
        "print (c)\n",
        "print(type(c))"
      ]
    },
    {
      "cell_type": "code",
      "execution_count": null,
      "metadata": {
        "colab": {
          "base_uri": "https://localhost:8080/"
        },
        "id": "vuJXGS21UJGE",
        "outputId": "20a8b8d0-8e6c-41c2-9a6a-4d0514e620ee"
      },
      "outputs": [
        {
          "name": "stdout",
          "output_type": "stream",
          "text": [
            "<class 'str'>\n",
            "After converting string to tuple : ('g', 'e', 'e', 'k', 's')\n",
            "<class 'tuple'>\n",
            "After converting string to set : {'k', 'e', 's', 'g'}\n",
            "<class 'set'>\n",
            "After converting string to list : ['g', 'e', 'e', 'k', 's']\n",
            "<class 'list'>\n"
          ]
        }
      ],
      "source": [
        "# Python code to demonstrate Type conversion\n",
        "# using tuple(), set(), list()\n",
        "\n",
        "# initializing string\n",
        "s = 'geeks'\n",
        "print(type(s))\n",
        "# printing string converting to tuple\n",
        "c = tuple(s)\n",
        "print (\"After converting string to tuple : \",end=\"\")\n",
        "print (c)\n",
        "print(type(c))\n",
        "# printing string converting to set\n",
        "c = set(s)\n",
        "print (\"After converting string to set : \",end=\"\")\n",
        "print (c)\n",
        "print(type(c))\n",
        "# printing string converting to list\n",
        "c = list(s)\n",
        "print (\"After converting string to list : \",end=\"\")\n",
        "print (c)\n",
        "print(type(c))"
      ]
    },
    {
      "cell_type": "markdown",
      "metadata": {
        "id": "eMm0Ts0GaZ8i"
      },
      "source": [
        "PRINT "
      ]
    },
    {
      "cell_type": "code",
      "execution_count": null,
      "metadata": {
        "colab": {
          "base_uri": "https://localhost:8080/"
        },
        "id": "-K0ax9ZAaW5s",
        "outputId": "e1801e4e-8966-43e6-855f-e03e340e3b77"
      },
      "outputs": [
        {
          "name": "stdout",
          "output_type": "stream",
          "text": [
            "Hello World!\n",
            "H\n",
            "llo\n",
            "llo Wor\n",
            "llo World!\n",
            "Hello World!Hello World!\n",
            "Hello World! TEST\n"
          ]
        }
      ],
      "source": [
        "str = 'Hello World!'\n",
        "\n",
        "print (str)          # Prints complete string\n",
        "print (str[0])       # Prints first character of the string\n",
        "print (str[2:5])     # Prints characters starting from 3rd to 5th\n",
        "print (str[2:-3])     # Prints characters starting from 3rd to 3rd from the last\n",
        "print (str[2:])      # Prints string starting from 3rd character\n",
        "print (str * 2)      # Prints string two times\n",
        "print (str + \"TEST\") # Prints concatenated string\n",
        "# TRY for tuples and lists "
      ]
    },
    {
      "cell_type": "code",
      "execution_count": null,
      "metadata": {
        "id": "-6iMqDnlUM1M"
      },
      "outputs": [],
      "source": [
        "import pandas as pd"
      ]
    }
  ],
  "metadata": {
    "colab": {
      "name": "Training Day 1.ipynb",
      "provenance": []
    },
    "kernelspec": {
      "display_name": "Python 3",
      "name": "python3"
    },
    "language_info": {
      "name": "python",
      "version": "3.10.1"
    }
  },
  "nbformat": 4,
  "nbformat_minor": 0
}
